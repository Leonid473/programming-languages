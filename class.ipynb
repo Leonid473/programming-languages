{
 "cells": [
  {
   "cell_type": "code",
   "execution_count": 1,
   "id": "2360f2ce",
   "metadata": {},
   "outputs": [],
   "source": [
    "class Car():\n",
    "    def __init__(self, name, model, year, fuel_capacity):\n",
    "        self.name = name\n",
    "        self.model = model\n",
    "        self.year = year\n",
    "        self.fuel_capacity = fuel_capacity\n",
    "        self.fuel_level = 0\n",
    "    \n",
    "    def fill_car(self):\n",
    "        self.fuel_level = self.fuel_capacity\n",
    "        print(\"fuel %s is full now\" %self.name)\n",
    "        \n",
    "    def drive(self):\n",
    "        if(self.fuel_level>0):\n",
    "            print(\"wr wr, the %s is moving\" %self.name)\n",
    "            self.fuel_level -=1\n",
    "        else: \n",
    "            print('%s fuel is empty, please fill your car' %self.name)"
   ]
  },
  {
   "cell_type": "code",
   "execution_count": 2,
   "id": "6004502b",
   "metadata": {},
   "outputs": [],
   "source": [
    "car1 = Car('toyota', 'supra', 1998, 52)"
   ]
  },
  {
   "cell_type": "code",
   "execution_count": 3,
   "id": "3e7930e0",
   "metadata": {},
   "outputs": [
    {
     "name": "stdout",
     "output_type": "stream",
     "text": [
      "toyota fuel is empty, please fill your car\n"
     ]
    }
   ],
   "source": [
    "car1.drive()"
   ]
  },
  {
   "cell_type": "code",
   "execution_count": null,
   "id": "e7b2db10",
   "metadata": {},
   "outputs": [],
   "source": []
  }
 ],
 "metadata": {
  "kernelspec": {
   "display_name": "Python 3 (ipykernel)",
   "language": "python",
   "name": "python3"
  },
  "language_info": {
   "codemirror_mode": {
    "name": "ipython",
    "version": 3
   },
   "file_extension": ".py",
   "mimetype": "text/x-python",
   "name": "python",
   "nbconvert_exporter": "python",
   "pygments_lexer": "ipython3",
   "version": "3.9.7"
  }
 },
 "nbformat": 4,
 "nbformat_minor": 5
}
