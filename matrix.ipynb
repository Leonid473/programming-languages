{
 "cells": [
  {
   "cell_type": "code",
   "execution_count": 2,
   "id": "cce94b6e",
   "metadata": {},
   "outputs": [
    {
     "name": "stdout",
     "output_type": "stream",
     "text": [
      "[[-1.  1. -1.  1. -1.  1.]\n",
      " [ 1. -1.  1. -1.  1. -1.]\n",
      " [-1.  1. -1.  1. -1.  1.]\n",
      " [ 1. -1.  1. -1.  1. -1.]\n",
      " [-1.  1. -1.  1. -1.  1.]\n",
      " [ 1. -1.  1. -1.  1. -1.]]\n",
      "-72.0\n"
     ]
    },
    {
     "data": {
      "text/plain": [
       "<matplotlib.image.AxesImage at 0x20eb92dc910>"
      ]
     },
     "execution_count": 2,
     "metadata": {},
     "output_type": "execute_result"
    },
    {
     "data": {
      "image/png": "[encoded data removed]",
      "text/plain": [
       "<Figure size 432x288 with 1 Axes>"
      ]
     },
     "metadata": {
      "needs_background": "light"
     },
     "output_type": "display_data"
    }
   ],
   "source": [
    "import numpy as np\n",
    "import random \n",
    "import math\n",
    "from random import randint\n",
    "import matplotlib.pyplot as plt\n",
    "\n",
    "First = P = W = Sum = Sum1 = 0\n",
    "T = 0.8\n",
    "b = 6 \n",
    "J = 750 \n",
    "k = [-1,1] \n",
    "mas = np.zeros((b,b))  \n",
    "mas1 = 0 \n",
    "debug = False\n",
    "for i in range(b): \n",
    "    for y in range(b):                   \n",
    "        mas[i][y] = random.choice(k) \n",
    "        \n",
    "First = mas.copy() \n",
    "\n",
    "for Count in range(J): \n",
    "    Sum = Sum1 = 0 \n",
    "    mas1 = mas.copy() \n",
    "    mas1[random.randrange(b)][random.randrange(b)] *= -1 \n",
    "    \n",
    "    for k in range(b):        \n",
    "        for i in range(b): \n",
    "            Sum += mas[k][i]*mas[k][i-1] + mas[k-1][i]*mas[k][i] \n",
    "            Sum1 += mas1[k][i]*mas1[k][i-1] + mas1[k-1][i]*mas1[k][i] \n",
    "        \n",
    "    delta = (Sum1 - Sum) \n",
    "\n",
    "    if delta <=0:\n",
    "        mas = mas1.copy() \n",
    "    else:\n",
    "        W = math.exp(-delta/T)\n",
    "        P = random.uniform(0, 1) \n",
    "        if W >= P:\n",
    "            First = mas.copy() \n",
    "        elif W < 0:         \n",
    "            mas = First.copy() \n",
    "    if Count == J-1:\n",
    "        if debug == True:\n",
    "            for i in range(b): \n",
    "                for y in range(b):                   \n",
    "                    if mas[i,y] == -1:\n",
    "                        mas[i,y] = 0\n",
    "        print(mas) \n",
    "        print(Sum)\n",
    "plt.imshow(mas)"
   ]
  },
  {
   "cell_type": "code",
   "execution_count": null,
   "id": "7f3f5987",
   "metadata": {},
   "outputs": [],
   "source": []
  }
 ],
 "metadata": {
  "kernelspec": {
   "display_name": "Python 3 (ipykernel)",
   "language": "python",
   "name": "python3"
  },
  "language_info": {
   "codemirror_mode": {
    "name": "ipython",
    "version": 3
   },
   "file_extension": ".py",
   "mimetype": "text/x-python",
   "name": "python",
   "nbconvert_exporter": "python",
   "pygments_lexer": "ipython3",
   "version": "3.9.7"
  }
 },
 "nbformat": 4,
 "nbformat_minor": 5
}
