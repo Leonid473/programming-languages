{
 "cells": [
  {
   "cell_type": "code",
   "execution_count": 1,
   "id": "ecdf7754",
   "metadata": {},
   "outputs": [
    {
     "name": "stdout",
     "output_type": "stream",
     "text": [
      "12345\n",
      "52341\n"
     ]
    }
   ],
   "source": [
    "a = str(input())\n",
    "print(a[-1]+a[1: len(a)-1]+a[0])"
   ]
  },
  {
   "cell_type": "code",
   "execution_count": 2,
   "id": "9259249e",
   "metadata": {},
   "outputs": [
    {
     "name": "stdout",
     "output_type": "stream",
     "text": [
      "120\n"
     ]
    }
   ],
   "source": [
    "def factorial(n):\n",
    "    if n == 0:\n",
    "        return 1\n",
    "    else:\n",
    "        return n * factorial(n-1)\n",
    "print(factorial(5))"
   ]
  },
  {
   "cell_type": "code",
   "execution_count": 3,
   "id": "5920d3ca",
   "metadata": {},
   "outputs": [
    {
     "name": "stdout",
     "output_type": "stream",
     "text": [
      "rock, paper, or scissors?: rock\n",
      "player: rock\n",
      "computer: scissors\n",
      "You win!\n"
     ]
    }
   ],
   "source": [
    "import random\n",
    "\n",
    "choices = ['rock', 'paper', 'scissors']\n",
    "\n",
    "computer = random.choice(choices)\n",
    "player = None\n",
    "\n",
    "while player not in choices:\n",
    "    player = input('rock, paper, or scissors?: ')\n",
    "    \n",
    "if player == 'rock':\n",
    "    print('player: rock')\n",
    "elif player == 'paper':\n",
    "    print('player: paper')\n",
    "elif player == 'scissors':\n",
    "    print('player: scissors')\n",
    "    \n",
    "if computer == 'rock':\n",
    "    print('computer: rock')\n",
    "elif computer == 'paper':\n",
    "    print('computer: paper')\n",
    "elif computer == 'scissors':\n",
    "    print('computer: scissors')\n",
    "    \n",
    "if player == computer:\n",
    "    print('Tie!')\n",
    "elif player == 'rock' and computer == 'scissors' or player == 'scissors' and computer == 'paper' or player == 'paper' and computer == 'rock':\n",
    "    print('You win!')\n",
    "elif player == 'scissors' and computer == 'rock' or player == 'paper' and computer == 'scissors' or player == 'rock' and computer == 'paper':\n",
    "    print('You lose!')"
   ]
  },
  {
   "cell_type": "code",
   "execution_count": null,
   "id": "d0bc5898",
   "metadata": {},
   "outputs": [],
   "source": []
  }
 ],
 "metadata": {
  "kernelspec": {
   "display_name": "Python 3 (ipykernel)",
   "language": "python",
   "name": "python3"
  },
  "language_info": {
   "codemirror_mode": {
    "name": "ipython",
    "version": 3
   },
   "file_extension": ".py",
   "mimetype": "text/x-python",
   "name": "python",
   "nbconvert_exporter": "python",
   "pygments_lexer": "ipython3",
   "version": "3.9.7"
  }
 },
 "nbformat": 4,
 "nbformat_minor": 5
}
